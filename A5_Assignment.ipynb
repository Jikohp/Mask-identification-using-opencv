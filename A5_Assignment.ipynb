{
 "cells": [
  {
   "cell_type": "markdown",
   "metadata": {},
   "source": [
    "<a href='https://www.hexnbit.com/'> <img src='https://www.hexnbit.com/wp-content/uploads/2019/09/hexnbit_final_66px.png'/> </a>"
   ]
  },
  {
   "cell_type": "markdown",
   "metadata": {},
   "source": [
    "# Task 1:\n",
    "1. Using OpenCV functions, open the webcam / USB camera device and play a live stream\n",
    "2. Video stream must stop when \"x\" key is pressed<br>\n",
    "**Hint-** Refer Section 41 from the content"
   ]
  },
  {
   "cell_type": "code",
   "execution_count": 2,
   "metadata": {},
   "outputs": [],
   "source": [
    "import cv2\n",
    "cap = cv2.VideoCapture(0)   # opening video file\n",
    "\n",
    "while(cap.isOpened()):     # checks if file is opened, runs in while loop till the video doesn't end\n",
    "    ret, frame = cap.read()   # reads a frame from video\n",
    "    cv2.imshow('frame',frame)  # display the frame\n",
    "    if cv2.waitKey(10) & 0xFF == ord('x'):   # if input is x, the while loop will break, change delay in order to change speed of video\n",
    "        break\n",
    "cap.release()\n",
    "cv2.destroyAllWindows()"
   ]
  },
  {
   "cell_type": "markdown",
   "metadata": {},
   "source": [
    "# Task 2:\n",
    "1. Add another window which displays grayscale feed<br>\n",
    "**Hint-** Refer Section 47 from the content"
   ]
  },
  {
   "cell_type": "code",
   "execution_count": 8,
   "metadata": {},
   "outputs": [],
   "source": [
    "cap = cv2.VideoCapture(0)    # opens camera device, change number to change the device \n",
    "                             #(suppose you want to switch between built in webcam and USB webcam)\n",
    "if(cap.isOpened()):          # check if camera is initilized and opened for read\n",
    "    for i in range(20):\n",
    "        ret,frame=cap.read()    # reads a frane from camera device\n",
    "    if(ret):             \n",
    "        cv2.imshow('Capture',frame)\n",
    "        cv2.imwrite(\"captured1.jpg\",frame)  # saving Image\n",
    "        cv2.waitKey(0)\n",
    "        cv2.destroyAllWindows()\n",
    "cap.release()                 "
   ]
  },
  {
   "cell_type": "code",
   "execution_count": 10,
   "metadata": {},
   "outputs": [],
   "source": [
    "img_path=\"captured1.jpg\"\n",
    "gs_img=cv2.imread(img_path,0)    # zero parameter tells that image has to be read as a grayscale image\n",
    "cv2.imshow(\"GrayScale  Image\",gs_img)\n",
    "cv2.waitKey(0)\n",
    "cv2.destroyAllWindows()"
   ]
  },
  {
   "cell_type": "markdown",
   "metadata": {},
   "source": [
    "# Task 3:\n",
    "1. In the live camera feed, using the Haar Cascade Files, detect following:-\n",
    "    - Face (Enclosed with Yellow Rectangle)\n",
    "    - Nose (Enclosed with Blue Rectangle)\n",
    "    - Eyes (Enclosed with Green Rectangle)\n",
    "    - Smile (Enclosed with Red Rectangle)<br>\n",
    "**Hint-** Refer Section 50"
   ]
  },
  {
   "cell_type": "code",
   "execution_count": 83,
   "metadata": {},
   "outputs": [],
   "source": [
    "cap = cv2.VideoCapture(0)    # opens camera device, change number to change the device \n",
    "                             #(suppose you want to switch between built in webcam and USB webcam)\n",
    "if(cap.isOpened()):          # check if camera is initilized and opened for read\n",
    "    for i in range(20):\n",
    "        ret,frame=cap.read()    # reads a frane from camera device\n",
    "    if(ret):             \n",
    "        cv2.imshow('Capture',frame)\n",
    "        cv2.imwrite(\"c2.jpg\",frame)  # saving Image\n",
    "        cv2.waitKey(0)\n",
    "        cv2.destroyAllWindows()\n",
    "cap.release()      "
   ]
  },
  {
   "cell_type": "code",
   "execution_count": 73,
   "metadata": {},
   "outputs": [],
   "source": [
    "face_cascade = cv2.CascadeClassifier('haarcascade_frontalface_default.xml')\n",
    "eye_cascade = cv2.CascadeClassifier('haarcascade_eye.xml')\n",
    "smile_cascade=cv2.CascadeClassifier('haarcascade_smile.xml')\n",
    "nose_cascade=cv2.CascadeClassifier('C:/Users/karthik/Desktop/Desktop/karthik/A3_Assignment/build_share_OpenCV_haarcascades_haarcascade_mcs_nose.xml')\n"
   ]
  },
  {
   "cell_type": "code",
   "execution_count": 84,
   "metadata": {},
   "outputs": [],
   "source": [
    "img = cv2.imread('c2.jpg')\n",
    "gray = cv2.cvtColor(img, cv2.COLOR_BGR2GRAY) # will be fed to cascade\n",
    "cv2.imshow(\"Original\",img)\n",
    "cv2.imshow(\"Grayscale\",gray)\n",
    "cv2.waitKey(0)\n",
    "cv2.destroyAllWindows()"
   ]
  },
  {
   "cell_type": "code",
   "execution_count": 87,
   "metadata": {},
   "outputs": [
    {
     "name": "stdout",
     "output_type": "stream",
     "text": [
      "[[264 280 196 196]]\n"
     ]
    }
   ],
   "source": [
    "faces=face_cascade.detectMultiScale(gray,scaleFactor=1.3,minNeighbors=2)\n",
    "print(faces)"
   ]
  },
  {
   "cell_type": "code",
   "execution_count": 68,
   "metadata": {},
   "outputs": [
    {
     "ename": "error",
     "evalue": "OpenCV(4.5.2) C:\\Users\\runneradmin\\AppData\\Local\\Temp\\pip-req-build-t9hleyt8\\opencv\\modules\\objdetect\\src\\cascadedetect.cpp:1689: error: (-215:Assertion failed) !empty() in function 'cv::CascadeClassifier::detectMultiScale'\n",
     "output_type": "error",
     "traceback": [
      "\u001b[1;31m---------------------------------------------------------------------------\u001b[0m",
      "\u001b[1;31merror\u001b[0m                                     Traceback (most recent call last)",
      "\u001b[1;32m<ipython-input-68-5a0a202b423d>\u001b[0m in \u001b[0;36m<module>\u001b[1;34m\u001b[0m\n\u001b[1;32m----> 1\u001b[1;33m \u001b[0mnose\u001b[0m\u001b[1;33m=\u001b[0m\u001b[0mnose_cascade\u001b[0m\u001b[1;33m.\u001b[0m\u001b[0mdetectMultiScale\u001b[0m\u001b[1;33m(\u001b[0m\u001b[0mroi_gray\u001b[0m\u001b[1;33m)\u001b[0m\u001b[1;33m\u001b[0m\u001b[1;33m\u001b[0m\u001b[0m\n\u001b[0m",
      "\u001b[1;31merror\u001b[0m: OpenCV(4.5.2) C:\\Users\\runneradmin\\AppData\\Local\\Temp\\pip-req-build-t9hleyt8\\opencv\\modules\\objdetect\\src\\cascadedetect.cpp:1689: error: (-215:Assertion failed) !empty() in function 'cv::CascadeClassifier::detectMultiScale'\n"
     ]
    }
   ],
   "source": [
    "\n"
   ]
  },
  {
   "cell_type": "code",
   "execution_count": 88,
   "metadata": {},
   "outputs": [
    {
     "name": "stdout",
     "output_type": "stream",
     "text": [
      "Number of Faces:  0\n"
     ]
    }
   ],
   "source": [
    "faces = face_cascade.detectMultiScale(gray, 1.3, 5)\n",
    "for (x,y,w,h) in faces:\n",
    "    img = cv2.rectangle(img,(x,y),(x+w,y+h),(0,255,255),2)\n",
    "    roi_gray = gray[y:y+h, x:x+w]\n",
    "    roi_color = img[y:y+h, x:x+w]\n",
    "    eyes = eye_cascade.detectMultiScale(roi_gray)\n",
    "    nose=nose_cascade.detectMultiScale(roi_gray)\n",
    "    smile = smile_cascade.detectMultiScale(roi_gray)\n",
    "    for (ex,ey,ew,eh) in eyes:\n",
    "        cv2.rectangle(roi_color,(ex,ey),(ex+ew,ey+eh),(0,255,0),2)\n",
    "    for (ex,ey,ew,eh) in nose:\n",
    "        cv2.rectangle(roi_color,(ex,ey),(ex+ew,ey+eh),(255,0,0),2)\n",
    "    for (sx,sy,sw,sh) in smile:\n",
    "        cv2.rectangle(roi_color,(sx,sy),(sx+sw,sy+sh),(0,0,255),2)\n",
    "print(\"Number of Faces: \",len(faces))\n",
    "cv2.imshow('img',img)\n",
    "cv2.waitKey(0)\n",
    "cv2.destroyAllWindows()\n",
    "\n"
   ]
  },
  {
   "cell_type": "code",
   "execution_count": null,
   "metadata": {},
   "outputs": [],
   "source": [
    "nose=nose_cascade.detectMultiScale(gray,scaleFactor=1.3,minNeighbors=2)"
   ]
  },
  {
   "cell_type": "markdown",
   "metadata": {},
   "source": [
    "# Task 4:\n",
    "1. Based on the Facial Features detected in live feed, try to form a logic which may be used to detect if the person is wearing mask or not<br>\n",
    "**Hint:** What are the facial features not visible when a person is wearing a mask?\n",
    "\n",
    "2. If mask is worn write \"Wearing Mask\" on top of face rectangle using Green Colour\n",
    "3. Else write \"No Mask\" on top of face rectangle using Red Colour<br>\n",
    "**Hint:** Look at the picture attached below / in the references of this download,Consider that only one face is detected in the live feed<br>"
   ]
  },
  {
   "cell_type": "markdown",
   "metadata": {},
   "source": [
    "The algorithm may not be 100% accurate and will depend on lighting conditions / camera placement etc. but try to calibrate the parameters of \"detectMultiScale\" function<br>\n",
    "Press Shift+Tab on the function to check all possible parameters"
   ]
  },
  {
   "cell_type": "markdown",
   "metadata": {},
   "source": [
    "<img src='mask_detection.jpg'/> </a>"
   ]
  },
  {
   "cell_type": "code",
   "execution_count": 96,
   "metadata": {},
   "outputs": [
    {
     "name": "stdout",
     "output_type": "stream",
     "text": [
      "Number of Faces:  0\n"
     ]
    }
   ],
   "source": [
    "faces = face_cascade.detectMultiScale(gray, 1.3, 5)\n",
    "for (x,y,w,h) in faces:\n",
    "    img = cv2.rectangle(img,(x,y),(x+w,y+h),(0,255,255),2)\n",
    "    roi_gray = gray[y:y+h, x:x+w]\n",
    "    roi_color = img[y:y+h, x:x+w]\n",
    "    eyes = eye_cascade.detectMultiScale(roi_gray)\n",
    "    nose=nose_cascade.detectMultiScale(roi_gray)\n",
    "    smile = smile_cascade.detectMultiScale(roi_gray)\n",
    "    if len(smile)==0 and len(nose)==0:\n",
    "        font = cv2.FONT_HERSHEY_SIMPLEX     \n",
    "        cv2.putText(img,'No mask',(170,300), font, 2,(255,255,0),3,cv2.LINE_AA) \n",
    "        for (ex,ey,ew,eh) in nose:\n",
    "            cv2.rectangle(roi_color,(ex,ey),(ex+ew,ey+eh),(255,0,0),2)\n",
    "        for (sx,sy,sw,sh) in smile:\n",
    "            cv2.rectangle(roi_color,(sx,sy),(sx+sw,sy+sh),(0,0,255),2)\n",
    "    else:\n",
    "        font = cv2.FONT_HERSHEY_SIMPLEX     \n",
    "        cv2.putText(img,'mask',(170,300), font, 2,(255,255,0),3,cv2.LINE_AA)\n",
    "    for (ex,ey,ew,eh) in eyes:\n",
    "        cv2.rectangle(roi_color,(ex,ey),(ex+ew,ey+eh),(0,255,0),2)\n",
    "    \n",
    "print(\"Number of Faces: \",len(faces))\n",
    "cv2.imshow('img',img)\n",
    "cv2.waitKey(0)\n",
    "cv2.destroyAllWindows()\n",
    "\n",
    "\n"
   ]
  },
  {
   "cell_type": "code",
   "execution_count": 93,
   "metadata": {},
   "outputs": [],
   "source": []
  },
  {
   "cell_type": "code",
   "execution_count": 94,
   "metadata": {},
   "outputs": [],
   "source": []
  },
  {
   "cell_type": "code",
   "execution_count": 95,
   "metadata": {},
   "outputs": [],
   "source": []
  },
  {
   "cell_type": "code",
   "execution_count": null,
   "metadata": {},
   "outputs": [],
   "source": []
  }
 ],
 "metadata": {
  "kernelspec": {
   "display_name": "Python 3",
   "language": "python",
   "name": "python3"
  },
  "language_info": {
   "codemirror_mode": {
    "name": "ipython",
    "version": 3
   },
   "file_extension": ".py",
   "mimetype": "text/x-python",
   "name": "python",
   "nbconvert_exporter": "python",
   "pygments_lexer": "ipython3",
   "version": "3.7.1"
  }
 },
 "nbformat": 4,
 "nbformat_minor": 4
}
